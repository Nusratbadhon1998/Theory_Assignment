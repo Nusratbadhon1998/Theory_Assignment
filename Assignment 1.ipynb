{
 "cells": [
  {
   "cell_type": "raw",
   "id": "81c726a5",
   "metadata": {},
   "source": [
    "1. In the below elements which of them are values or an expression? eg:- values can be\n",
    "integer or string and expressions will be mathematical operators.\n",
    "\n",
    "Ans:\n",
    "\n",
    "* = expression\n",
    "\n",
    "'hello'= value\n",
    "\n",
    "-87.8 = value\n",
    "\n",
    "- = expression\n",
    "\n",
    "/ = expression\n",
    "\n",
    "+ = expression\n",
    "\n",
    "6 = value\n"
   ]
  },
  {
   "cell_type": "raw",
   "id": "87cccd49",
   "metadata": {},
   "source": [
    "2. What is the difference between string and variable?\n",
    "\n",
    "Ans:  String is a value representing text. It is written in between quotation.\n",
    "\n",
    "A variable is a name that can refer to any value. It can be int, float or string etc."
   ]
  },
  {
   "cell_type": "raw",
   "id": "a35f1c26",
   "metadata": {},
   "source": [
    "3. Describe three different data types.\n",
    "\n",
    "Ans: Three different data types are:\n",
    "*List\n",
    "*String\n",
    "*Boolean\n",
    "\n",
    "List: List can be collection of data type.\n",
    "String: String (or str or text). Used for a combination of any characters that appear on a keyboard, such as letters, numbers and symbols.\n",
    "Boolean: Used where data is restricted to True/False or yes/no options."
   ]
  },
  {
   "cell_type": "raw",
   "id": "8458a6e6",
   "metadata": {},
   "source": [
    "4. What is an expression made up of? What do all expressions do?\n",
    "\n",
    "Ans: An expression is a construct made up of variables, operators, and method invocations, which are constructed according to the syntax of the language, that evaluates to a single value.\n",
    "\n",
    "All Expressions evaluate to a single value."
   ]
  },
  {
   "cell_type": "raw",
   "id": "4dc7af89",
   "metadata": {},
   "source": [
    "5. This assignment statements, like spam = 10. What is the difference between an\n",
    "expression and a statement?\n",
    "\n",
    "Ans: \n",
    "In programming language terminology, an “expression” is a combination of values and functions that are combined and interpreted by the compiler to create a new value, as opposed to a “statement” which is just a standalone unit of execution and doesn't return anything."
   ]
  },
  {
   "cell_type": "raw",
   "id": "92e9fc36",
   "metadata": {},
   "source": [
    "6. After running the following code, what does the variable bacon contain?\n",
    "bacon = 22\n",
    "bacon + 1\n",
    "\n",
    "Ans: 22"
   ]
  },
  {
   "cell_type": "raw",
   "id": "0e69c8a6",
   "metadata": {},
   "source": [
    "7. What should the values of the following two terms be?\n",
    "'spam' + 'spamspam'\n",
    "'spam' * 3\n",
    "\n",
    "Ans: 'spamspamspam'\n",
    "'spamspamspam'"
   ]
  },
  {
   "cell_type": "raw",
   "id": "ffc3aa7b",
   "metadata": {},
   "source": [
    "8. Why is eggs a valid variable name while 100 is invalid?\n",
    "\n",
    "Ans: A variable name can not be statrted with numbers"
   ]
  },
  {
   "cell_type": "raw",
   "id": "ecb27f1e",
   "metadata": {},
   "source": [
    "9. What three functions can be used to get the integer, floating-point number, or string\n",
    "version of a value?\n",
    "\n",
    "Ans: The int(), float(), and str() functions will evaluate to the integer, floating-point number, and string versions of the value passed to them."
   ]
  },
  {
   "cell_type": "raw",
   "id": "3497f151",
   "metadata": {},
   "source": [
    "10. Why does this expression cause an error? How can you fix it?\n",
    "\n",
    "'I have eaten ' + 99 + ' burritos.'\n",
    "\n",
    "Ans:\n",
    "String and integer can not be concat together. it should be write like this\n",
    "\n",
    "'I have eaten ' +  str(99) + ' burritos.'"
   ]
  }
 ],
 "metadata": {
  "kernelspec": {
   "display_name": "Python 3",
   "language": "python",
   "name": "python3"
  },
  "language_info": {
   "codemirror_mode": {
    "name": "ipython",
    "version": 3
   },
   "file_extension": ".py",
   "mimetype": "text/x-python",
   "name": "python",
   "nbconvert_exporter": "python",
   "pygments_lexer": "ipython3",
   "version": "3.9.2"
  }
 },
 "nbformat": 4,
 "nbformat_minor": 5
}
